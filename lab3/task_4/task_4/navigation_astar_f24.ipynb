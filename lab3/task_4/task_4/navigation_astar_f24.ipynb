{
  "cells": [
    {
      "cell_type": "markdown",
      "metadata": {
        "id": "tLwvqtsxYuDl"
      },
      "source": [
        "# Navigation"
      ]
    },
    {
      "cell_type": "markdown",
      "metadata": {
        "id": "W1MvViuMYuDm"
      },
      "source": [
        "So far you have learned how some planning algorithms work. ROS implements some of these algorithms, so we do not have to worry about implementing them from scratch. But where is the fun in that, so let's go through some of the algorithms, and understand what would be the steps to implement a planning algorithm on a \"real environment\".\n",
        "\n",
        "The following notebook is aimed explain:\n",
        "1. The reading process of the *.pgm files generated during the mapping stage in ROS.\n",
        "2. The concept of Node, Tree and how that is related to the the planning algorithms.\n",
        "3. The implementation fo the planning algorithms\n",
        "\n",
        "## Map Loading\n",
        "In order to create a plan (at least a global one), it is necessary to have a map to work on. For that, we will make use of the map we obtained during the navigation course. We can use the information in the pgm and yaml files as follows:"
      ]
    },
    {
      "cell_type": "code",
      "execution_count": 2,
      "metadata": {
        "colab": {
          "base_uri": "https://localhost:8080/",
          "height": 587
        },
        "id": "73E60_aMYuDn",
        "outputId": "5d936427-263b-4a8e-8519-e012d497e31f"
      },
      "outputs": [
        {
          "output_type": "stream",
          "name": "stdout",
          "text": [
            "\n"
          ]
        },
        {
          "output_type": "display_data",
          "data": {
            "text/plain": [
              "<Figure size 960x720 with 1 Axes>"
            ],
            "image/png": "[encoded data removed]"
          },
          "metadata": {}
        }
      ],
      "source": [
        "from PIL import Image, ImageOps\n",
        "\n",
        "import numpy as np\n",
        "import matplotlib.pyplot as plt\n",
        "import matplotlib.cm as cm\n",
        "\n",
        "import yaml\n",
        "import pandas as pd\n",
        "\n",
        "from copy import copy, deepcopy\n",
        "import time\n",
        "\n",
        "class Map():\n",
        "    def __init__(self, map_name):\n",
        "        self.map_im, self.map_df, self.limits = self.__open_map(map_name)\n",
        "        self.image_array = self.__get_obstacle_map(self.map_im, self.map_df)\n",
        "\n",
        "    def __repr__(self):\n",
        "        fig, ax = plt.subplots(dpi=150)\n",
        "        ax.imshow(self.image_array,extent=self.limits, cmap=cm.gray)\n",
        "        ax.plot()\n",
        "        return \"\"\n",
        "\n",
        "    def __open_map(self,map_name):\n",
        "        # Open the YAML file which contains the map name and other\n",
        "        # configuration parameters\n",
        "        f = open(map_name + '.yaml', 'r')\n",
        "        map_df = pd.json_normalize(yaml.safe_load(f))\n",
        "        # Open the map image\n",
        "        map_name = map_df.image[0]\n",
        "        im = Image.open(map_name)\n",
        "        size = 200, 200\n",
        "        im.thumbnail(size)\n",
        "        im = ImageOps.grayscale(im)\n",
        "        # Get the limits of the map. This will help to display the map\n",
        "        # with the correct axis ticks.\n",
        "        xmin = map_df.origin[0][0]\n",
        "        xmax = map_df.origin[0][0] + im.size[0] * map_df.resolution[0]\n",
        "        ymin = map_df.origin[0][1]\n",
        "        ymax = map_df.origin[0][1] + im.size[1] * map_df.resolution[0]\n",
        "\n",
        "        return im, map_df, [xmin,xmax,ymin,ymax]\n",
        "\n",
        "    def __get_obstacle_map(self,map_im, map_df):\n",
        "        img_array = np.reshape(list(self.map_im.getdata()),(self.map_im.size[1],self.map_im.size[0]))\n",
        "        up_thresh = self.map_df.occupied_thresh[0]*255\n",
        "        low_thresh = self.map_df.free_thresh[0]*255\n",
        "\n",
        "        for j in range(self.map_im.size[0]):\n",
        "            for i in range(self.map_im.size[1]):\n",
        "                if img_array[i,j] > up_thresh:\n",
        "                    img_array[i,j] = 255\n",
        "                else:\n",
        "                    img_array[i,j] = 0\n",
        "        return img_array\n",
        "\n",
        "print(Map('sync_classroom_map'))"
      ]
    },
    {
      "cell_type": "markdown",
      "metadata": {
        "id": "nI4FI0XtYuDp"
      },
      "source": [
        "## Graph Representation and Map Conversion\n",
        "In order to make use of any of the path planning algorithms, it is important to convert the obtained map into a more useful notation. In general, the path planning algorithms work on the basis of a data structure called Graph. A graph is an abstract data type that consists of a finite set of vertices (nodes) and edges that connects them. The edges can have or not direction, which makes the graph directed or undirected respectively. Additionally, it is common to see values associated to the edges, which brings the concept of \"cost\" or \"weight\" to the graph.\n",
        "\n",
        "The main objective is then to implement a processing tool capable of converting the image map representation into a graph, and then solve the planning problem from the map graph representation."
      ]
    },
    {
      "cell_type": "markdown",
      "metadata": {
        "id": "-dCgVsuEYuDq"
      },
      "source": [
        "### Node/Tree Visualization\n",
        "A useful tool for graph visualization is Graphviz, which can be used through the ``` edge ``` and ``` node ``` APIs to create a graph structure as the one shown below."
      ]
    },
    {
      "cell_type": "code",
      "execution_count": 3,
      "metadata": {
        "colab": {
          "base_uri": "https://localhost:8080/",
          "height": 272
        },
        "id": "yiAAPWauYuDr",
        "outputId": "2a99c0c2-416d-4964-b391-ce95ec6587e5"
      },
      "outputs": [
        {
          "output_type": "execute_result",
          "data": {
            "image/svg+xml": "<?xml version=\"1.0\" encoding=\"UTF-8\" standalone=\"no\"?>\n<!DOCTYPE svg PUBLIC \"-//W3C//DTD SVG 1.1//EN\"\n \"http://www.w3.org/Graphics/SVG/1.1/DTD/svg11.dtd\">\n<!-- Generated by graphviz version 2.43.0 (0)\n -->\n<!-- Title: G Pages: 1 -->\n<svg width=\"170pt\" height=\"188pt\"\n viewBox=\"0.00 0.00 170.00 188.00\" xmlns=\"http://www.w3.org/2000/svg\" xmlns:xlink=\"http://www.w3.org/1999/xlink\">\n<g id=\"graph0\" class=\"graph\" transform=\"scale(1 1) rotate(0) translate(4 184)\">\n<title>G</title>\n<polygon fill=\"white\" stroke=\"transparent\" points=\"-4,4 -4,-184 166,-184 166,4 -4,4\"/>\n<!-- a -->\n<g id=\"node1\" class=\"node\">\n<title>a</title>\n<ellipse fill=\"lightgrey\" stroke=\"black\" cx=\"63\" cy=\"-162\" rx=\"27\" ry=\"18\"/>\n<text text-anchor=\"middle\" x=\"63\" y=\"-158.3\" font-family=\"Times,serif\" font-size=\"14.00\">a</text>\n</g>\n<!-- b -->\n<g id=\"node2\" class=\"node\">\n<title>b</title>\n<ellipse fill=\"none\" stroke=\"black\" cx=\"27\" cy=\"-90\" rx=\"27\" ry=\"18\"/>\n<text text-anchor=\"middle\" x=\"27\" y=\"-86.3\" font-family=\"Times,serif\" font-size=\"14.00\">b</text>\n</g>\n<!-- a&#45;&#45;b -->\n<g id=\"edge1\" class=\"edge\">\n<title>a&#45;&#45;b</title>\n<path fill=\"none\" stroke=\"black\" d=\"M54.65,-144.76C48.83,-133.46 41.11,-118.44 35.3,-107.15\"/>\n</g>\n<!-- c -->\n<g id=\"node3\" class=\"node\">\n<title>c</title>\n<ellipse fill=\"none\" stroke=\"black\" cx=\"99\" cy=\"-90\" rx=\"27\" ry=\"18\"/>\n<text text-anchor=\"middle\" x=\"99\" y=\"-86.3\" font-family=\"Times,serif\" font-size=\"14.00\">c</text>\n</g>\n<!-- a&#45;&#45;c -->\n<g id=\"edge2\" class=\"edge\">\n<title>a&#45;&#45;c</title>\n<path fill=\"none\" stroke=\"black\" d=\"M71.35,-144.76C77.17,-133.46 84.89,-118.44 90.7,-107.15\"/>\n</g>\n<!-- d -->\n<g id=\"node4\" class=\"node\">\n<title>d</title>\n<ellipse fill=\"none\" stroke=\"black\" cx=\"63\" cy=\"-18\" rx=\"27\" ry=\"18\"/>\n<text text-anchor=\"middle\" x=\"63\" y=\"-14.3\" font-family=\"Times,serif\" font-size=\"14.00\">d</text>\n</g>\n<!-- c&#45;&#45;d -->\n<g id=\"edge3\" class=\"edge\">\n<title>c&#45;&#45;d</title>\n<path fill=\"none\" stroke=\"black\" d=\"M90.65,-72.76C84.83,-61.46 77.11,-46.44 71.3,-35.15\"/>\n</g>\n<!-- e -->\n<g id=\"node5\" class=\"node\">\n<title>e</title>\n<ellipse fill=\"none\" stroke=\"black\" cx=\"135\" cy=\"-18\" rx=\"27\" ry=\"18\"/>\n<text text-anchor=\"middle\" x=\"135\" y=\"-14.3\" font-family=\"Times,serif\" font-size=\"14.00\">e</text>\n</g>\n<!-- c&#45;&#45;e -->\n<g id=\"edge4\" class=\"edge\">\n<title>c&#45;&#45;e</title>\n<path fill=\"none\" stroke=\"black\" d=\"M107.35,-72.76C113.17,-61.46 120.89,-46.44 126.7,-35.15\"/>\n</g>\n</g>\n</svg>\n",
            "text/plain": [
              "<graphviz.graphs.Graph at 0x78fb0bcb7740>"
            ]
          },
          "metadata": {},
          "execution_count": 3
        }
      ],
      "source": [
        "from graphviz import Graph\n",
        "g = Graph('G')\n",
        "\n",
        "g.node('a','a',style='filled')\n",
        "g.node('b','b')\n",
        "g.node('c','c')\n",
        "g.node('d','d')\n",
        "g.node('e','e')\n",
        "\n",
        "g.edge('a','b',shape='none')\n",
        "g.edge('a','c')\n",
        "g.edge('c','d')\n",
        "g.edge('c','e')\n",
        "\n",
        "g"
      ]
    },
    {
      "cell_type": "code",
      "execution_count": 4,
      "metadata": {
        "id": "SWFPXm-mYuDs"
      },
      "outputs": [],
      "source": [
        "class Queue():\n",
        "    def __init__(self, init_queue = []):\n",
        "        self.queue = copy(init_queue)\n",
        "        self.start = 0\n",
        "        self.end = len(self.queue)-1\n",
        "\n",
        "    def __len__(self):\n",
        "        numel = len(self.queue)\n",
        "        return numel\n",
        "\n",
        "    def __repr__(self):\n",
        "        q = self.queue\n",
        "        tmpstr = \"\"\n",
        "        for i in range(len(self.queue)):\n",
        "            flag = False\n",
        "            if(i == self.start):\n",
        "                tmpstr += \"<\"\n",
        "                flag = True\n",
        "            if(i == self.end):\n",
        "                tmpstr += \">\"\n",
        "                flag = True\n",
        "\n",
        "            if(flag):\n",
        "                tmpstr += '| ' + str(q[i]) + '|\\n'\n",
        "            else:\n",
        "                tmpstr += ' | ' + str(q[i]) + '|\\n'\n",
        "\n",
        "        return tmpstr\n",
        "\n",
        "    def __call__(self):\n",
        "        return self.queue\n",
        "\n",
        "    def initialize_queue(self,init_queue = []):\n",
        "        self.queue = copy(init_queue)\n",
        "\n",
        "    def sort(self,key=str.lower):\n",
        "        self.queue = sorted(self.queue,key=key)\n",
        "\n",
        "    def push(self,data):\n",
        "        self.queue.append(data)\n",
        "        self.end += 1\n",
        "\n",
        "    def pop(self):\n",
        "        p = self.queue.pop(self.start)\n",
        "        self.end = len(self.queue)-1\n",
        "        return p\n",
        "\n",
        "class Node():\n",
        "    def __init__(self,name):\n",
        "        self.name = name\n",
        "        self.children = []\n",
        "        self.weight = []\n",
        "\n",
        "    def __repr__(self):\n",
        "        return self.name\n",
        "\n",
        "    def add_children(self,node,w=None):\n",
        "        if w == None:\n",
        "            w = [1]*len(node)\n",
        "        self.children.extend(node)\n",
        "        self.weight.extend(w)\n",
        "\n",
        "class Tree():\n",
        "    def __init__(self,name):\n",
        "        self.name = name\n",
        "        self.root = 0\n",
        "        self.end = 0\n",
        "        self.g = {}\n",
        "        self.g_visual = Graph('G')\n",
        "\n",
        "    def __call__(self):\n",
        "        for name,node in self.g.items():\n",
        "            if(self.root == name):\n",
        "                self.g_visual.node(name,name,color='red')\n",
        "            elif(self.end == name):\n",
        "                self.g_visual.node(name,name,color='blue')\n",
        "            else:\n",
        "                self.g_visual.node(name,name)\n",
        "            for i in range(len(node.children)):\n",
        "                c = node.children[i]\n",
        "                w = node.weight[i]\n",
        "                #print('%s -> %s'%(name,c.name))\n",
        "                if w == 0:\n",
        "                    self.g_visual.edge(name,c.name)\n",
        "                else:\n",
        "                    self.g_visual.edge(name,c.name,label=str(w))\n",
        "        return self.g_visual\n",
        "\n",
        "    def add_node(self, node, start = False, end = False):\n",
        "        self.g[node.name] = node\n",
        "        if(start):\n",
        "            self.root = node.name\n",
        "        elif(end):\n",
        "            self.end = node.name\n",
        "\n",
        "    def set_as_root(self,node):\n",
        "        # These are exclusive conditions\n",
        "        self.root = True\n",
        "        self.end = False\n",
        "\n",
        "    def set_as_end(self,node):\n",
        "        # These are exclusive conditions\n",
        "        self.root = False\n",
        "        self.end = True\n"
      ]
    },
    {
      "cell_type": "code",
      "execution_count": 5,
      "metadata": {
        "id": "SLo1VNuEYuDt"
      },
      "outputs": [],
      "source": [
        "a = Node('a')\n",
        "b = Node('b')\n",
        "c = Node('c')\n",
        "d = Node('d')\n",
        "e = Node('e')\n",
        "f = Node('f')\n",
        "\n",
        "a.add_children([c],[1])\n",
        "b.add_children([c,e],[1,1])\n",
        "c.add_children([b,e,d],[1,3,1])\n",
        "e.add_children([b,c],[1,3])\n",
        "d.add_children([c],[1])\n",
        "\n",
        "tree = Tree('tree')\n",
        "tree.add_node(a,start=True)\n",
        "tree.add_node(b)\n",
        "tree.add_node(c)\n",
        "tree.add_node(d)\n",
        "tree.add_node(e,end=True)\n",
        "tree.add_node(f)"
      ]
    },
    {
      "cell_type": "code",
      "execution_count": 6,
      "metadata": {
        "colab": {
          "base_uri": "https://localhost:8080/",
          "height": 428
        },
        "id": "Xi_4Xl7-YuDt",
        "outputId": "cd707dd5-1caa-4400-805d-e294d80b1e8c"
      },
      "outputs": [
        {
          "output_type": "execute_result",
          "data": {
            "image/svg+xml": "<?xml version=\"1.0\" encoding=\"UTF-8\" standalone=\"no\"?>\n<!DOCTYPE svg PUBLIC \"-//W3C//DTD SVG 1.1//EN\"\n \"http://www.w3.org/Graphics/SVG/1.1/DTD/svg11.dtd\">\n<!-- Generated by graphviz version 2.43.0 (0)\n -->\n<!-- Title: G Pages: 1 -->\n<svg width=\"213pt\" height=\"305pt\"\n viewBox=\"0.00 0.00 213.00 305.00\" xmlns=\"http://www.w3.org/2000/svg\" xmlns:xlink=\"http://www.w3.org/1999/xlink\">\n<g id=\"graph0\" class=\"graph\" transform=\"scale(1 1) rotate(0) translate(4 301)\">\n<title>G</title>\n<polygon fill=\"white\" stroke=\"transparent\" points=\"-4,4 -4,-301 209,-301 209,4 -4,4\"/>\n<!-- a -->\n<g id=\"node1\" class=\"node\">\n<title>a</title>\n<ellipse fill=\"none\" stroke=\"red\" cx=\"106\" cy=\"-279\" rx=\"27\" ry=\"18\"/>\n<text text-anchor=\"middle\" x=\"106\" y=\"-275.3\" font-family=\"Times,serif\" font-size=\"14.00\">a</text>\n</g>\n<!-- c -->\n<g id=\"node2\" class=\"node\">\n<title>c</title>\n<ellipse fill=\"none\" stroke=\"black\" cx=\"106\" cy=\"-192\" rx=\"27\" ry=\"18\"/>\n<text text-anchor=\"middle\" x=\"106\" y=\"-188.3\" font-family=\"Times,serif\" font-size=\"14.00\">c</text>\n</g>\n<!-- a&#45;&#45;c -->\n<g id=\"edge1\" class=\"edge\">\n<title>a&#45;&#45;c</title>\n<path fill=\"none\" stroke=\"black\" d=\"M106,-260.8C106,-246.05 106,-224.92 106,-210.18\"/>\n<text text-anchor=\"middle\" x=\"109.5\" y=\"-231.8\" font-family=\"Times,serif\" font-size=\"14.00\">1</text>\n</g>\n<!-- b -->\n<g id=\"node3\" class=\"node\">\n<title>b</title>\n<ellipse fill=\"none\" stroke=\"black\" cx=\"27\" cy=\"-105\" rx=\"27\" ry=\"18\"/>\n<text text-anchor=\"middle\" x=\"27\" y=\"-101.3\" font-family=\"Times,serif\" font-size=\"14.00\">b</text>\n</g>\n<!-- c&#45;&#45;b -->\n<g id=\"edge4\" class=\"edge\">\n<title>c&#45;&#45;b</title>\n<path fill=\"none\" stroke=\"black\" d=\"M82.57,-182.63C69.6,-176.93 54.1,-168.18 44,-156 36.27,-146.68 32,-133.68 29.66,-123.27\"/>\n<text text-anchor=\"middle\" x=\"47.5\" y=\"-144.8\" font-family=\"Times,serif\" font-size=\"14.00\">1</text>\n</g>\n<!-- e -->\n<g id=\"node4\" class=\"node\">\n<title>e</title>\n<ellipse fill=\"none\" stroke=\"blue\" cx=\"76\" cy=\"-18\" rx=\"27\" ry=\"18\"/>\n<text text-anchor=\"middle\" x=\"76\" y=\"-14.3\" font-family=\"Times,serif\" font-size=\"14.00\">e</text>\n</g>\n<!-- c&#45;&#45;e -->\n<g id=\"edge5\" class=\"edge\">\n<title>c&#45;&#45;e</title>\n<path fill=\"none\" stroke=\"black\" d=\"M103.01,-173.88C97.26,-140.91 84.71,-68.97 78.97,-36.05\"/>\n<text text-anchor=\"middle\" x=\"96.5\" y=\"-101.3\" font-family=\"Times,serif\" font-size=\"14.00\">3</text>\n</g>\n<!-- d -->\n<g id=\"node5\" class=\"node\">\n<title>d</title>\n<ellipse fill=\"none\" stroke=\"black\" cx=\"142\" cy=\"-105\" rx=\"27\" ry=\"18\"/>\n<text text-anchor=\"middle\" x=\"142\" y=\"-101.3\" font-family=\"Times,serif\" font-size=\"14.00\">d</text>\n</g>\n<!-- c&#45;&#45;d -->\n<g id=\"edge6\" class=\"edge\">\n<title>c&#45;&#45;d</title>\n<path fill=\"none\" stroke=\"black\" d=\"M112.47,-174.25C116.29,-164.5 121.29,-152 126,-141 128.63,-134.86 131.65,-128.17 134.35,-122.31\"/>\n<text text-anchor=\"middle\" x=\"129.5\" y=\"-144.8\" font-family=\"Times,serif\" font-size=\"14.00\">1</text>\n</g>\n<!-- b&#45;&#45;c -->\n<g id=\"edge2\" class=\"edge\">\n<title>b&#45;&#45;c</title>\n<path fill=\"none\" stroke=\"black\" d=\"M39.06,-121.26C47.23,-131.37 58.42,-144.78 69,-156 75.79,-163.21 83.72,-170.81 90.5,-177.08\"/>\n<text text-anchor=\"middle\" x=\"72.5\" y=\"-144.8\" font-family=\"Times,serif\" font-size=\"14.00\">1</text>\n</g>\n<!-- b&#45;&#45;e -->\n<g id=\"edge3\" class=\"edge\">\n<title>b&#45;&#45;e</title>\n<path fill=\"none\" stroke=\"black\" d=\"M27.29,-86.84C28.12,-76.72 30.35,-63.98 36,-54 41.09,-45.01 49.38,-37.18 57.1,-31.23\"/>\n<text text-anchor=\"middle\" x=\"39.5\" y=\"-57.8\" font-family=\"Times,serif\" font-size=\"14.00\">1</text>\n</g>\n<!-- e&#45;&#45;c -->\n<g id=\"edge9\" class=\"edge\">\n<title>e&#45;&#45;c</title>\n<path fill=\"none\" stroke=\"black\" d=\"M99.67,-27.11C124.3,-36.97 161.53,-56.23 178,-87 196.96,-122.43 152.02,-160.35 124.85,-179.1\"/>\n<text text-anchor=\"middle\" x=\"185.5\" y=\"-101.3\" font-family=\"Times,serif\" font-size=\"14.00\">3</text>\n</g>\n<!-- e&#45;&#45;b -->\n<g id=\"edge8\" class=\"edge\">\n<title>e&#45;&#45;b</title>\n<path fill=\"none\" stroke=\"black\" d=\"M66.66,-35.21C57.91,-50.38 44.92,-72.91 36.22,-88.01\"/>\n<text text-anchor=\"middle\" x=\"57.5\" y=\"-57.8\" font-family=\"Times,serif\" font-size=\"14.00\">1</text>\n</g>\n<!-- d&#45;&#45;c -->\n<g id=\"edge7\" class=\"edge\">\n<title>d&#45;&#45;c</title>\n<path fill=\"none\" stroke=\"black\" d=\"M139.97,-123.2C138.37,-133.1 135.62,-145.6 131,-156 127.91,-162.96 123.31,-169.93 118.9,-175.8\"/>\n<text text-anchor=\"middle\" x=\"139.5\" y=\"-144.8\" font-family=\"Times,serif\" font-size=\"14.00\">1</text>\n</g>\n<!-- f -->\n<g id=\"node6\" class=\"node\">\n<title>f</title>\n<ellipse fill=\"none\" stroke=\"black\" cx=\"178\" cy=\"-279\" rx=\"27\" ry=\"18\"/>\n<text text-anchor=\"middle\" x=\"178\" y=\"-275.3\" font-family=\"Times,serif\" font-size=\"14.00\">f</text>\n</g>\n</g>\n</svg>\n",
            "text/plain": [
              "<graphviz.graphs.Graph at 0x78fb0bd0e360>"
            ]
          },
          "metadata": {},
          "execution_count": 6
        }
      ],
      "source": [
        "tree()"
      ]
    },
    {
      "cell_type": "markdown",
      "metadata": {
        "id": "vUlJhe4AYuDu"
      },
      "source": [
        "## Breadth First Search Algorithm"
      ]
    },
    {
      "cell_type": "markdown",
      "metadata": {
        "id": "DXcI1i9bYuDv"
      },
      "source": [
        "The breadth first search goes through the nodes in an unweighted graph and keeps a queue of the visited and unvisited nodes. For that, BFS checks the child nodes at every iteration and adds them to the queue, if a particular child node was already in the queue, it just skips to the next. At the end of the iteration, the parent node is marked as visited and it goes to the next entry in the queue. In the graph above, if we consider the node 'a' as the start node, then the queue would look like this after the first iteration.<br><br>\n",
        "**1st iteration**\n",
        "```\n",
        "c\n",
        "a <- visited\n",
        "```\n",
        "**2nd iteration**\n",
        "```\n",
        "d\n",
        "e\n",
        "b\n",
        "c <- visited\n",
        "a <- visited\n",
        "```\n",
        "**3rd iteration**\n",
        "```\n",
        "d\n",
        "e\n",
        "b <- visited\n",
        "c <- visited\n",
        "a <- visited\n",
        "```"
      ]
    },
    {
      "cell_type": "code",
      "execution_count": 7,
      "metadata": {
        "id": "NT-iOOCMYuDv"
      },
      "outputs": [],
      "source": [
        "class BFS():\n",
        "    def __init__(self,tree):\n",
        "        self.q = Queue()\n",
        "        self.visited = {name:False for name,node in tree.g.items()}\n",
        "        self.via = {name:0 for name,node in tree.g.items()}\n",
        "        self.dist = {name:0 for name,node in tree.g.items()}\n",
        "\n",
        "    def solve(self,sn):\n",
        "        self.q.push(sn)\n",
        "        self.visited[sn.name] = True\n",
        "        while len(self.q) > 0:\n",
        "            node = self.q.pop()\n",
        "            for i in range(len(node.children)):\n",
        "                c = node.children[i]\n",
        "                w = node.weight[i]\n",
        "                if self.visited[c.name] == False:\n",
        "                    self.q.push(c)\n",
        "                    self.visited[c.name] = True\n",
        "                    self.via[c.name] = node.name\n",
        "                    self.dist[c.name] = self.dist[node.name] + w\n",
        "            #print(node.name,self.q.queue)\n",
        "            #print(self.dist)\n",
        "        return self.via\n",
        "\n",
        "    def reconstruct_path(self,sn=0,en=0):\n",
        "        path = []\n",
        "        node = en.name\n",
        "        path.append(node)\n",
        "        dist = self.dist[en.name]\n",
        "        while True:\n",
        "            node = self.via[node]\n",
        "            if node == 0:\n",
        "                break\n",
        "            else:\n",
        "                path.append(node)\n",
        "        path.reverse()\n",
        "        if path[0] != sn.name:\n",
        "            path = []\n",
        "        return path,dist\n"
      ]
    },
    {
      "cell_type": "code",
      "execution_count": 8,
      "metadata": {
        "colab": {
          "base_uri": "https://localhost:8080/"
        },
        "id": "Fp1g3jCyYuDw",
        "outputId": "95d241e6-2082-478e-c736-c84414a16c06"
      },
      "outputs": [
        {
          "output_type": "stream",
          "name": "stdout",
          "text": [
            "['a', 'c', 'e']\n",
            "4\n"
          ]
        }
      ],
      "source": [
        "bfs = BFS(tree)\n",
        "bfs.solve(tree.g[tree.root])\n",
        "path,dist = bfs.reconstruct_path(tree.g[tree.root],tree.g[tree.end])\n",
        "print(path)\n",
        "print(dist)"
      ]
    },
    {
      "cell_type": "markdown",
      "metadata": {
        "id": "1uW3GkBWYuDw"
      },
      "source": [
        "## Dijkstra's Algorithm"
      ]
    },
    {
      "cell_type": "markdown",
      "metadata": {
        "id": "5aq29iiCYuDw"
      },
      "source": [
        "Dijkstra's finds the shortest path between two points given a weighted graph. Unlike BFS, Dijkstra's algorithm takes into consideration how difficult is to get from one node to another. Once we pass the graph and the start point to the algorithm it will build a data structure, where we can find the shortest path from the given start point to any other node in the graph (if they are connected). If we only require to find the path to one end point, then the algorithm can be shortened to break once that end point is found.\n",
        "\n",
        "The key difference of this algorithms lies on the ``` dist ``` and ``` via ``` lists, which give the ability to propritize the search of the shortest path. This also has the disadvantage that, if no other information is given, the algorithm will start looking for the shortest edges, regardless of where the target/end node is."
      ]
    },
    {
      "cell_type": "code",
      "execution_count": 9,
      "metadata": {
        "id": "5wJyINOhYuDx"
      },
      "outputs": [],
      "source": [
        "a = Node('a')\n",
        "b = Node('b')\n",
        "c = Node('c')\n",
        "d = Node('d')\n",
        "e = Node('e')\n",
        "f = Node('f')\n",
        "\n",
        "a.add_children([c],[1])\n",
        "b.add_children([c,e],[1,1])\n",
        "c.add_children([b,e,d],[1,3,1])\n",
        "e.add_children([b,c],[1,3])\n",
        "d.add_children([c],[1])\n",
        "\n",
        "tree = Tree('tree1')\n",
        "tree.add_node(a,start=True)\n",
        "tree.add_node(b)\n",
        "tree.add_node(c)\n",
        "tree.add_node(d)\n",
        "tree.add_node(e,end=True)\n",
        "tree.add_node(f)"
      ]
    },
    {
      "cell_type": "code",
      "execution_count": 10,
      "metadata": {
        "id": "2MDhjJV0YuDx",
        "colab": {
          "base_uri": "https://localhost:8080/",
          "height": 428
        },
        "outputId": "c90974fa-16fa-4787-f547-92df45293aca"
      },
      "outputs": [
        {
          "output_type": "execute_result",
          "data": {
            "image/svg+xml": "<?xml version=\"1.0\" encoding=\"UTF-8\" standalone=\"no\"?>\n<!DOCTYPE svg PUBLIC \"-//W3C//DTD SVG 1.1//EN\"\n \"http://www.w3.org/Graphics/SVG/1.1/DTD/svg11.dtd\">\n<!-- Generated by graphviz version 2.43.0 (0)\n -->\n<!-- Title: G Pages: 1 -->\n<svg width=\"213pt\" height=\"305pt\"\n viewBox=\"0.00 0.00 213.00 305.00\" xmlns=\"http://www.w3.org/2000/svg\" xmlns:xlink=\"http://www.w3.org/1999/xlink\">\n<g id=\"graph0\" class=\"graph\" transform=\"scale(1 1) rotate(0) translate(4 301)\">\n<title>G</title>\n<polygon fill=\"white\" stroke=\"transparent\" points=\"-4,4 -4,-301 209,-301 209,4 -4,4\"/>\n<!-- a -->\n<g id=\"node1\" class=\"node\">\n<title>a</title>\n<ellipse fill=\"none\" stroke=\"red\" cx=\"106\" cy=\"-279\" rx=\"27\" ry=\"18\"/>\n<text text-anchor=\"middle\" x=\"106\" y=\"-275.3\" font-family=\"Times,serif\" font-size=\"14.00\">a</text>\n</g>\n<!-- c -->\n<g id=\"node2\" class=\"node\">\n<title>c</title>\n<ellipse fill=\"none\" stroke=\"black\" cx=\"106\" cy=\"-192\" rx=\"27\" ry=\"18\"/>\n<text text-anchor=\"middle\" x=\"106\" y=\"-188.3\" font-family=\"Times,serif\" font-size=\"14.00\">c</text>\n</g>\n<!-- a&#45;&#45;c -->\n<g id=\"edge1\" class=\"edge\">\n<title>a&#45;&#45;c</title>\n<path fill=\"none\" stroke=\"black\" d=\"M106,-260.8C106,-246.05 106,-224.92 106,-210.18\"/>\n<text text-anchor=\"middle\" x=\"109.5\" y=\"-231.8\" font-family=\"Times,serif\" font-size=\"14.00\">1</text>\n</g>\n<!-- b -->\n<g id=\"node3\" class=\"node\">\n<title>b</title>\n<ellipse fill=\"none\" stroke=\"black\" cx=\"27\" cy=\"-105\" rx=\"27\" ry=\"18\"/>\n<text text-anchor=\"middle\" x=\"27\" y=\"-101.3\" font-family=\"Times,serif\" font-size=\"14.00\">b</text>\n</g>\n<!-- c&#45;&#45;b -->\n<g id=\"edge4\" class=\"edge\">\n<title>c&#45;&#45;b</title>\n<path fill=\"none\" stroke=\"black\" d=\"M82.57,-182.63C69.6,-176.93 54.1,-168.18 44,-156 36.27,-146.68 32,-133.68 29.66,-123.27\"/>\n<text text-anchor=\"middle\" x=\"47.5\" y=\"-144.8\" font-family=\"Times,serif\" font-size=\"14.00\">1</text>\n</g>\n<!-- e -->\n<g id=\"node4\" class=\"node\">\n<title>e</title>\n<ellipse fill=\"none\" stroke=\"blue\" cx=\"76\" cy=\"-18\" rx=\"27\" ry=\"18\"/>\n<text text-anchor=\"middle\" x=\"76\" y=\"-14.3\" font-family=\"Times,serif\" font-size=\"14.00\">e</text>\n</g>\n<!-- c&#45;&#45;e -->\n<g id=\"edge5\" class=\"edge\">\n<title>c&#45;&#45;e</title>\n<path fill=\"none\" stroke=\"black\" d=\"M103.01,-173.88C97.26,-140.91 84.71,-68.97 78.97,-36.05\"/>\n<text text-anchor=\"middle\" x=\"96.5\" y=\"-101.3\" font-family=\"Times,serif\" font-size=\"14.00\">3</text>\n</g>\n<!-- d -->\n<g id=\"node5\" class=\"node\">\n<title>d</title>\n<ellipse fill=\"none\" stroke=\"black\" cx=\"142\" cy=\"-105\" rx=\"27\" ry=\"18\"/>\n<text text-anchor=\"middle\" x=\"142\" y=\"-101.3\" font-family=\"Times,serif\" font-size=\"14.00\">d</text>\n</g>\n<!-- c&#45;&#45;d -->\n<g id=\"edge6\" class=\"edge\">\n<title>c&#45;&#45;d</title>\n<path fill=\"none\" stroke=\"black\" d=\"M112.47,-174.25C116.29,-164.5 121.29,-152 126,-141 128.63,-134.86 131.65,-128.17 134.35,-122.31\"/>\n<text text-anchor=\"middle\" x=\"129.5\" y=\"-144.8\" font-family=\"Times,serif\" font-size=\"14.00\">1</text>\n</g>\n<!-- b&#45;&#45;c -->\n<g id=\"edge2\" class=\"edge\">\n<title>b&#45;&#45;c</title>\n<path fill=\"none\" stroke=\"black\" d=\"M39.06,-121.26C47.23,-131.37 58.42,-144.78 69,-156 75.79,-163.21 83.72,-170.81 90.5,-177.08\"/>\n<text text-anchor=\"middle\" x=\"72.5\" y=\"-144.8\" font-family=\"Times,serif\" font-size=\"14.00\">1</text>\n</g>\n<!-- b&#45;&#45;e -->\n<g id=\"edge3\" class=\"edge\">\n<title>b&#45;&#45;e</title>\n<path fill=\"none\" stroke=\"black\" d=\"M27.29,-86.84C28.12,-76.72 30.35,-63.98 36,-54 41.09,-45.01 49.38,-37.18 57.1,-31.23\"/>\n<text text-anchor=\"middle\" x=\"39.5\" y=\"-57.8\" font-family=\"Times,serif\" font-size=\"14.00\">1</text>\n</g>\n<!-- e&#45;&#45;c -->\n<g id=\"edge9\" class=\"edge\">\n<title>e&#45;&#45;c</title>\n<path fill=\"none\" stroke=\"black\" d=\"M99.67,-27.11C124.3,-36.97 161.53,-56.23 178,-87 196.96,-122.43 152.02,-160.35 124.85,-179.1\"/>\n<text text-anchor=\"middle\" x=\"185.5\" y=\"-101.3\" font-family=\"Times,serif\" font-size=\"14.00\">3</text>\n</g>\n<!-- e&#45;&#45;b -->\n<g id=\"edge8\" class=\"edge\">\n<title>e&#45;&#45;b</title>\n<path fill=\"none\" stroke=\"black\" d=\"M66.66,-35.21C57.91,-50.38 44.92,-72.91 36.22,-88.01\"/>\n<text text-anchor=\"middle\" x=\"57.5\" y=\"-57.8\" font-family=\"Times,serif\" font-size=\"14.00\">1</text>\n</g>\n<!-- d&#45;&#45;c -->\n<g id=\"edge7\" class=\"edge\">\n<title>d&#45;&#45;c</title>\n<path fill=\"none\" stroke=\"black\" d=\"M139.97,-123.2C138.37,-133.1 135.62,-145.6 131,-156 127.91,-162.96 123.31,-169.93 118.9,-175.8\"/>\n<text text-anchor=\"middle\" x=\"139.5\" y=\"-144.8\" font-family=\"Times,serif\" font-size=\"14.00\">1</text>\n</g>\n<!-- f -->\n<g id=\"node6\" class=\"node\">\n<title>f</title>\n<ellipse fill=\"none\" stroke=\"black\" cx=\"178\" cy=\"-279\" rx=\"27\" ry=\"18\"/>\n<text text-anchor=\"middle\" x=\"178\" y=\"-275.3\" font-family=\"Times,serif\" font-size=\"14.00\">f</text>\n</g>\n</g>\n</svg>\n",
            "text/plain": [
              "<graphviz.graphs.Graph at 0x78fb0bd0f3e0>"
            ]
          },
          "metadata": {},
          "execution_count": 10
        }
      ],
      "source": [
        "tree()"
      ]
    },
    {
      "cell_type": "code",
      "execution_count": 11,
      "metadata": {
        "id": "Gs8rPRcuYuDy"
      },
      "outputs": [],
      "source": [
        "class Dijkstra():\n",
        "    def __init__(self,in_tree):\n",
        "        self.q = Queue()\n",
        "        self.dist = {name:np.inf for name,node in in_tree.g.items()}\n",
        "        self.via = {name:0 for name,node in in_tree.g.items()}\n",
        "        self.visited = {name:False for name,node in in_tree.g.items()}\n",
        "        for __,node in in_tree.g.items():\n",
        "            self.q.push(node)\n",
        "\n",
        "    def __get_dist_to_node(self,node):\n",
        "        return self.dist[node.name]\n",
        "\n",
        "    def solve(self, sn, en):\n",
        "        self.dist[sn.name] = 0\n",
        "        while len(self.q) > 0:\n",
        "            self.q.sort(key=self.__get_dist_to_node)\n",
        "            u = self.q.pop()\n",
        "            #print(u.name,self.q.queue)\n",
        "            if u.name == en.name:\n",
        "                break\n",
        "            for i in range(len(u.children)):\n",
        "                c = u.children[i]\n",
        "                w = u.weight[i]\n",
        "                new_dist = self.dist[u.name] + w\n",
        "                if new_dist < self.dist[c.name]:\n",
        "                    self.dist[c.name] = new_dist\n",
        "                    self.via[c.name] = u.name\n",
        "\n",
        "\n",
        "    def reconstruct_path(self,sn,en):\n",
        "        start_key = sn.name\n",
        "        end_key = en.name\n",
        "        dist = self.dist[end_key]\n",
        "        u = end_key\n",
        "        path = [u]\n",
        "        while u != start_key:\n",
        "            u = self.via[u]\n",
        "            path.append(u)\n",
        "        path.reverse()\n",
        "        return path,dist\n"
      ]
    },
    {
      "cell_type": "code",
      "execution_count": 12,
      "metadata": {
        "colab": {
          "base_uri": "https://localhost:8080/"
        },
        "id": "3cKGtlRAYuDy",
        "outputId": "541bb321-8081-4d5e-f252-2b191e6500ee"
      },
      "outputs": [
        {
          "output_type": "execute_result",
          "data": {
            "text/plain": [
              "(['a', 'c', 'b', 'e'], 3)"
            ]
          },
          "metadata": {},
          "execution_count": 12
        }
      ],
      "source": [
        "dj = Dijkstra(tree)\n",
        "dj.solve(tree.g[tree.root],tree.g[tree.end])\n",
        "dj.reconstruct_path(tree.g[tree.root],tree.g[tree.end])"
      ]
    },
    {
      "cell_type": "markdown",
      "metadata": {
        "id": "B_E4QvUPYuDy"
      },
      "source": [
        "## A* Algorithm\n",
        "A* can be seen as an extension of Dijkstra's algorithm. While Dijkstra's fails to do a \"smart\" search, A* introduces an heuristic function $h$ to provide more information to the search process, which is aimed to improve the speed of Dijkstra's.\n",
        "In other words, the search queue in A* is prioritized based on a function $f(n)=g(n)+h(n)$, where $g(n)$ is the ``` dist ```\n",
        "vector containing the shortest distance up to the node $n$, while $h(n)$ is an heuristic that provides an idea of how \"good\" is to move to the node $n$ while searching for the path. Thus the score function $f$ weights not just how close is the node $n$ from the current node, but how \"good\" is to move towards that point, which at the end helps to proritize the paths that make more sense."
      ]
    },
    {
      "cell_type": "code",
      "execution_count": 13,
      "metadata": {
        "id": "87E4_EsOYuDz"
      },
      "outputs": [],
      "source": [
        "class AStar():\n",
        "    def __init__(self,in_tree):\n",
        "        self.in_tree = in_tree\n",
        "        self.q = Queue()\n",
        "        self.dist = {name:np.inf for name,node in in_tree.g.items()}\n",
        "        self.h = {name:0 for name,node in in_tree.g.items()}\n",
        "\n",
        "        for name,node in in_tree.g.items():\n",
        "            start = tuple(map(int, name.split(',')))\n",
        "            end = tuple(map(int, self.in_tree.end.split(',')))\n",
        "            self.h[name] = np.sqrt((end[0]-start[0])**2 + (end[1]-start[1])**2)\n",
        "\n",
        "        self.via = {name:0 for name,node in in_tree.g.items()}\n",
        "        for __,node in in_tree.g.items():\n",
        "            self.q.push(node)\n",
        "\n",
        "    def __get_f_score(self,node):\n",
        "        return self.dist[node.name] + self.h[node.name]\n",
        "\n",
        "    def solve(self, sn, en):\n",
        "        self.dist[sn.name] = 0\n",
        "        while len(self.q) > 0:\n",
        "            self.q.sort(key=self.__get_f_score)\n",
        "            u = self.q.pop()\n",
        "            #print(u.name,self.q.queue)\n",
        "            if u.name == en.name:\n",
        "                break\n",
        "            for i in range(len(u.children)):\n",
        "                c = u.children[i]\n",
        "                w = u.weight[i]\n",
        "                new_dist = self.dist[u.name] + w\n",
        "                if new_dist < self.dist[c.name]:\n",
        "                    self.dist[c.name] = new_dist\n",
        "                    self.via[c.name] = u.name\n",
        "\n",
        "        return self.via\n",
        "\n",
        "    def reconstruct_path(self,sn,en):\n",
        "        path = []\n",
        "        dist = 0\n",
        "        start_key = sn.name\n",
        "        end_key = en.name\n",
        "        dist = self.dist[end_key]\n",
        "        u = end_key\n",
        "        path = [u]\n",
        "        while u != start_key:\n",
        "            u = self.via[u]\n",
        "            path.append(u)\n",
        "        path.reverse()\n",
        "\n",
        "        return path,dist"
      ]
    },
    {
      "cell_type": "markdown",
      "metadata": {
        "id": "sQY8iVUpYuDz"
      },
      "source": [
        "## Create A Graph From A Map"
      ]
    },
    {
      "cell_type": "code",
      "execution_count": 14,
      "metadata": {
        "id": "N7chSbExYuDz"
      },
      "outputs": [],
      "source": [
        "class MapProcessor():\n",
        "    def __init__(self,name):\n",
        "        self.map = Map(name)\n",
        "        self.inf_map_img_array = np.zeros(self.map.image_array.shape)\n",
        "        self.map_graph = Tree(name)\n",
        "\n",
        "    def __modify_map_pixel(self,map_array,i,j,value,absolute):\n",
        "        if( (i >= 0) and\n",
        "            (i < map_array.shape[0]) and\n",
        "            (j >= 0) and\n",
        "            (j < map_array.shape[1]) ):\n",
        "            if absolute:\n",
        "                map_array[i][j] = value\n",
        "            else:\n",
        "                map_array[i][j] += value\n",
        "\n",
        "    def __inflate_obstacle(self,kernel,map_array,i,j,absolute):\n",
        "        dx = int(kernel.shape[0]//2)\n",
        "        dy = int(kernel.shape[1]//2)\n",
        "        if (dx == 0) and (dy == 0):\n",
        "            self.__modify_map_pixel(map_array,i,j,kernel[0][0],absolute)\n",
        "        else:\n",
        "            for k in range(i-dx,i+dx):\n",
        "                for l in range(j-dy,j+dy):\n",
        "                    self.__modify_map_pixel(map_array,k,l,kernel[k-i+dx][l-j+dy],absolute)\n",
        "\n",
        "    def inflate_map(self,kernel,absolute=True):\n",
        "        # Perform an operation like dilation, such that the small wall found during the mapping process\n",
        "        # are increased in size, thus forcing a safer path.\n",
        "        self.inf_map_img_array = np.zeros(self.map.image_array.shape)\n",
        "        for i in range(self.map.image_array.shape[0]):\n",
        "            for j in range(self.map.image_array.shape[1]):\n",
        "                if self.map.image_array[i][j] == 0:\n",
        "                    self.__inflate_obstacle(kernel,self.inf_map_img_array,i,j,absolute)\n",
        "        r = np.max(self.inf_map_img_array)-np.min(self.inf_map_img_array)\n",
        "        if r == 0:\n",
        "            r = 1\n",
        "        self.inf_map_img_array = (self.inf_map_img_array - np.min(self.inf_map_img_array))/r\n",
        "\n",
        "    def get_graph_from_map(self):\n",
        "        # Create the nodes that will be part of the graph, considering only valid nodes or the free space\n",
        "        for i in range(self.map.image_array.shape[0]):\n",
        "            for j in range(self.map.image_array.shape[1]):\n",
        "                if self.inf_map_img_array[i][j] == 0:\n",
        "                    node = Node('%d,%d'%(i,j))\n",
        "                    self.map_graph.add_node(node)\n",
        "        # Connect the nodes through edges\n",
        "        for i in range(self.map.image_array.shape[0]):\n",
        "            for j in range(self.map.image_array.shape[1]):\n",
        "                if self.inf_map_img_array[i][j] == 0:\n",
        "                    if (i > 0):\n",
        "                        if self.inf_map_img_array[i-1][j] == 0:\n",
        "                            # add an edge up\n",
        "                            child_up = self.map_graph.g['%d,%d'%(i-1,j)]\n",
        "                            self.map_graph.g['%d,%d'%(i,j)].add_children([child_up],[1])\n",
        "                    if (i < (self.map.image_array.shape[0] - 1)):\n",
        "                        if self.inf_map_img_array[i+1][j] == 0:\n",
        "                            # add an edge down\n",
        "                            child_dw = self.map_graph.g['%d,%d'%(i+1,j)]\n",
        "                            self.map_graph.g['%d,%d'%(i,j)].add_children([child_dw],[1])\n",
        "                    if (j > 0):\n",
        "                        if self.inf_map_img_array[i][j-1] == 0:\n",
        "                            # add an edge to the left\n",
        "                            child_lf = self.map_graph.g['%d,%d'%(i,j-1)]\n",
        "                            self.map_graph.g['%d,%d'%(i,j)].add_children([child_lf],[1])\n",
        "                    if (j < (self.map.image_array.shape[1] - 1)):\n",
        "                        if self.inf_map_img_array[i][j+1] == 0:\n",
        "                            # add an edge to the right\n",
        "                            child_rg = self.map_graph.g['%d,%d'%(i,j+1)]\n",
        "                            self.map_graph.g['%d,%d'%(i,j)].add_children([child_rg],[1])\n",
        "                    if ((i > 0) and (j > 0)):\n",
        "                        if self.inf_map_img_array[i-1][j-1] == 0:\n",
        "                            # add an edge up-left\n",
        "                            child_up_lf = self.map_graph.g['%d,%d'%(i-1,j-1)]\n",
        "                            self.map_graph.g['%d,%d'%(i,j)].add_children([child_up_lf],[np.sqrt(2)])\n",
        "                    if ((i > 0) and (j < (self.map.image_array.shape[1] - 1))):\n",
        "                        if self.inf_map_img_array[i-1][j+1] == 0:\n",
        "                            # add an edge up-right\n",
        "                            child_up_rg = self.map_graph.g['%d,%d'%(i-1,j+1)]\n",
        "                            self.map_graph.g['%d,%d'%(i,j)].add_children([child_up_rg],[np.sqrt(2)])\n",
        "                    if ((i < (self.map.image_array.shape[0] - 1)) and (j > 0)):\n",
        "                        if self.inf_map_img_array[i+1][j-1] == 0:\n",
        "                            # add an edge down-left\n",
        "                            child_dw_lf = self.map_graph.g['%d,%d'%(i+1,j-1)]\n",
        "                            self.map_graph.g['%d,%d'%(i,j)].add_children([child_dw_lf],[np.sqrt(2)])\n",
        "                    if ((i < (self.map.image_array.shape[0] - 1)) and (j < (self.map.image_array.shape[1] - 1))):\n",
        "                        if self.inf_map_img_array[i+1][j+1] == 0:\n",
        "                            # add an edge down-right\n",
        "                            child_dw_rg = self.map_graph.g['%d,%d'%(i+1,j+1)]\n",
        "                            self.map_graph.g['%d,%d'%(i,j)].add_children([child_dw_rg],[np.sqrt(2)])\n",
        "\n",
        "    def gaussian_kernel(self, size, sigma=1):\n",
        "        size = int(size) // 2\n",
        "        x, y = np.mgrid[-size:size+1, -size:size+1]\n",
        "        normal = 1 / (2.0 * np.pi * sigma**2)\n",
        "        g =  np.exp(-((x**2 + y**2) / (2.0*sigma**2))) * normal\n",
        "        r = np.max(g)-np.min(g)\n",
        "        sm = (g - np.min(g))*1/r\n",
        "        return sm\n",
        "\n",
        "    def rect_kernel(self, size, value):\n",
        "        m = np.ones(shape=(size,size))\n",
        "        return m\n",
        "\n",
        "    def draw_path(self,path):\n",
        "        path_tuple_list = []\n",
        "        path_array = copy(self.inf_map_img_array)\n",
        "        for idx in path:\n",
        "            tup = tuple(map(int, idx.split(',')))\n",
        "            path_tuple_list.append(tup)\n",
        "            path_array[tup] = 0.5\n",
        "        return path_array"
      ]
    },
    {
      "cell_type": "code",
      "execution_count": 15,
      "metadata": {
        "id": "nYAiXzy6YuD0"
      },
      "outputs": [],
      "source": [
        "mp = MapProcessor('sync_classroom_map')"
      ]
    },
    {
      "cell_type": "code",
      "execution_count": 16,
      "metadata": {
        "colab": {
          "base_uri": "https://localhost:8080/",
          "height": 420
        },
        "id": "2grYNIO1YuD0",
        "outputId": "d35f5f1c-d223-4f12-c5d5-c35cf2b3228e"
      },
      "outputs": [
        {
          "output_type": "display_data",
          "data": {
            "text/plain": [
              "<Figure size 640x480 with 2 Axes>"
            ],
            "image/png": "[encoded data removed]"
          },
          "metadata": {}
        }
      ],
      "source": [
        "kr = mp.rect_kernel(5,1)\n",
        "#kr = mp.rect_kernel(1,1)\n",
        "mp.inflate_map(kr,True)\n",
        "\n",
        "mp.get_graph_from_map()\n",
        "\n",
        "fig, ax = plt.subplots(dpi=100)\n",
        "plt.imshow(mp.inf_map_img_array)\n",
        "plt.colorbar()\n",
        "plt.show()"
      ]
    },
    {
      "cell_type": "code",
      "execution_count": 17,
      "metadata": {
        "colab": {
          "base_uri": "https://localhost:8080/"
        },
        "id": "xrbBEjkSYuD1",
        "outputId": "742cf50c-57d7-4c46-fc46-969db08e7298"
      },
      "outputs": [
        {
          "output_type": "stream",
          "name": "stdout",
          "text": [
            "Elapsed Time: 0.032\n"
          ]
        }
      ],
      "source": [
        "mp.map_graph.root = \"130,175\"\n",
        "mp.map_graph.end = \"100,10\"\n",
        "\n",
        "bfs_maze = BFS(mp.map_graph)\n",
        "\n",
        "start = time.time()\n",
        "bfs_maze.solve(mp.map_graph.g[mp.map_graph.root])\n",
        "end = time.time()\n",
        "print('Elapsed Time: %.3f'%(end - start))\n",
        "\n",
        "path_bfs,dist_bfs = bfs_maze.reconstruct_path(mp.map_graph.g[mp.map_graph.root],mp.map_graph.g[mp.map_graph.end])"
      ]
    },
    {
      "cell_type": "code",
      "execution_count": 18,
      "metadata": {
        "id": "RVYUTfZQYuD1"
      },
      "outputs": [],
      "source": [
        "path_arr_bfs = mp.draw_path(path_bfs)"
      ]
    },
    {
      "cell_type": "code",
      "execution_count": 19,
      "metadata": {
        "colab": {
          "base_uri": "https://localhost:8080/"
        },
        "id": "IOXVFwo49_6w",
        "outputId": "094ca426-be1f-4c43-a84f-a27e50263748"
      },
      "outputs": [
        {
          "output_type": "execute_result",
          "data": {
            "text/plain": [
              "['130,175',\n",
              " '129,175',\n",
              " '128,175',\n",
              " '127,175',\n",
              " '126,175',\n",
              " '125,175',\n",
              " '124,175',\n",
              " '123,175',\n",
              " '122,175',\n",
              " '121,175',\n",
              " '120,175',\n",
              " '119,176',\n",
              " '118,176',\n",
              " '117,176',\n",
              " '116,176',\n",
              " '115,176',\n",
              " '114,176',\n",
              " '113,176',\n",
              " '112,176',\n",
              " '111,176',\n",
              " '110,176',\n",
              " '109,176',\n",
              " '108,176',\n",
              " '107,176',\n",
              " '106,176',\n",
              " '105,176',\n",
              " '104,176',\n",
              " '103,176',\n",
              " '102,176',\n",
              " '101,177',\n",
              " '100,177',\n",
              " '99,177',\n",
              " '98,177',\n",
              " '97,177',\n",
              " '96,177',\n",
              " '95,177',\n",
              " '94,177',\n",
              " '93,177',\n",
              " '92,177',\n",
              " '91,177',\n",
              " '90,177',\n",
              " '89,177',\n",
              " '88,177',\n",
              " '87,177',\n",
              " '86,177',\n",
              " '85,177',\n",
              " '84,177',\n",
              " '83,177',\n",
              " '82,177',\n",
              " '81,177',\n",
              " '80,177',\n",
              " '79,177',\n",
              " '78,177',\n",
              " '77,177',\n",
              " '76,177',\n",
              " '75,178',\n",
              " '74,178',\n",
              " '73,178',\n",
              " '72,178',\n",
              " '71,178',\n",
              " '70,178',\n",
              " '69,177',\n",
              " '69,176',\n",
              " '69,175',\n",
              " '69,174',\n",
              " '69,173',\n",
              " '69,172',\n",
              " '69,171',\n",
              " '69,170',\n",
              " '69,169',\n",
              " '69,168',\n",
              " '69,167',\n",
              " '69,166',\n",
              " '69,165',\n",
              " '69,164',\n",
              " '69,163',\n",
              " '69,162',\n",
              " '69,161',\n",
              " '69,160',\n",
              " '69,159',\n",
              " '69,158',\n",
              " '68,157',\n",
              " '68,156',\n",
              " '68,155',\n",
              " '68,154',\n",
              " '68,153',\n",
              " '68,152',\n",
              " '68,151',\n",
              " '68,150',\n",
              " '68,149',\n",
              " '68,148',\n",
              " '68,147',\n",
              " '68,146',\n",
              " '68,145',\n",
              " '68,144',\n",
              " '68,143',\n",
              " '68,142',\n",
              " '68,141',\n",
              " '68,140',\n",
              " '68,139',\n",
              " '68,138',\n",
              " '68,137',\n",
              " '68,136',\n",
              " '68,135',\n",
              " '68,134',\n",
              " '68,133',\n",
              " '68,132',\n",
              " '67,131',\n",
              " '67,130',\n",
              " '67,129',\n",
              " '67,128',\n",
              " '67,127',\n",
              " '67,126',\n",
              " '67,125',\n",
              " '67,124',\n",
              " '67,123',\n",
              " '67,122',\n",
              " '67,121',\n",
              " '67,120',\n",
              " '67,119',\n",
              " '67,118',\n",
              " '67,117',\n",
              " '67,116',\n",
              " '67,115',\n",
              " '67,114',\n",
              " '67,113',\n",
              " '67,112',\n",
              " '67,111',\n",
              " '67,110',\n",
              " '67,109',\n",
              " '67,108',\n",
              " '67,107',\n",
              " '67,106',\n",
              " '67,105',\n",
              " '67,104',\n",
              " '67,103',\n",
              " '67,102',\n",
              " '67,101',\n",
              " '67,100',\n",
              " '67,99',\n",
              " '67,98',\n",
              " '67,97',\n",
              " '67,96',\n",
              " '67,95',\n",
              " '67,94',\n",
              " '67,93',\n",
              " '67,92',\n",
              " '67,91',\n",
              " '67,90',\n",
              " '67,89',\n",
              " '67,88',\n",
              " '67,87',\n",
              " '67,86',\n",
              " '67,85',\n",
              " '67,84',\n",
              " '67,83',\n",
              " '67,82',\n",
              " '67,81',\n",
              " '67,80',\n",
              " '67,79',\n",
              " '67,78',\n",
              " '67,77',\n",
              " '67,76',\n",
              " '67,75',\n",
              " '67,74',\n",
              " '67,73',\n",
              " '67,72',\n",
              " '67,71',\n",
              " '67,70',\n",
              " '67,69',\n",
              " '67,68',\n",
              " '67,67',\n",
              " '67,66',\n",
              " '67,65',\n",
              " '67,64',\n",
              " '67,63',\n",
              " '67,62',\n",
              " '67,61',\n",
              " '66,60',\n",
              " '65,59',\n",
              " '64,58',\n",
              " '63,57',\n",
              " '62,56',\n",
              " '61,55',\n",
              " '60,54',\n",
              " '59,53',\n",
              " '58,52',\n",
              " '57,51',\n",
              " '56,50',\n",
              " '55,49',\n",
              " '54,48',\n",
              " '53,47',\n",
              " '52,46',\n",
              " '51,45',\n",
              " '50,44',\n",
              " '49,43',\n",
              " '48,42',\n",
              " '47,41',\n",
              " '46,40',\n",
              " '45,39',\n",
              " '44,38',\n",
              " '43,37',\n",
              " '42,36',\n",
              " '41,35',\n",
              " '40,34',\n",
              " '39,33',\n",
              " '39,32',\n",
              " '39,31',\n",
              " '39,30',\n",
              " '39,29',\n",
              " '39,28',\n",
              " '40,27',\n",
              " '41,27',\n",
              " '42,27',\n",
              " '43,27',\n",
              " '44,27',\n",
              " '45,27',\n",
              " '46,27',\n",
              " '47,27',\n",
              " '48,26',\n",
              " '49,25',\n",
              " '50,24',\n",
              " '51,23',\n",
              " '52,22',\n",
              " '53,21',\n",
              " '54,20',\n",
              " '55,19',\n",
              " '56,19',\n",
              " '57,19',\n",
              " '58,19',\n",
              " '59,19',\n",
              " '60,19',\n",
              " '61,19',\n",
              " '62,19',\n",
              " '63,19',\n",
              " '64,19',\n",
              " '65,19',\n",
              " '66,19',\n",
              " '67,19',\n",
              " '68,19',\n",
              " '69,19',\n",
              " '70,19',\n",
              " '71,19',\n",
              " '72,19',\n",
              " '73,19',\n",
              " '74,19',\n",
              " '75,19',\n",
              " '76,19',\n",
              " '77,19',\n",
              " '78,19',\n",
              " '79,19',\n",
              " '80,19',\n",
              " '81,19',\n",
              " '82,19',\n",
              " '83,19',\n",
              " '84,19',\n",
              " '85,19',\n",
              " '86,19',\n",
              " '87,19',\n",
              " '88,19',\n",
              " '89,19',\n",
              " '90,19',\n",
              " '91,19',\n",
              " '92,18',\n",
              " '93,17',\n",
              " '94,16',\n",
              " '95,15',\n",
              " '96,14',\n",
              " '97,13',\n",
              " '98,12',\n",
              " '99,11',\n",
              " '100,10']"
            ]
          },
          "metadata": {},
          "execution_count": 19
        }
      ],
      "source": [
        "path_bfs"
      ]
    },
    {
      "cell_type": "code",
      "execution_count": null,
      "metadata": {
        "id": "Mh-efvMyYuD1"
      },
      "outputs": [],
      "source": [
        "mp.map_graph.root = \"130,175\"\n",
        "mp.map_graph.end = \"100,10\"\n",
        "dj_maze = Dijkstra(mp.map_graph)\n",
        "\n",
        "start = time.time()\n",
        "dj_maze.solve(mp.map_graph.g[mp.map_graph.root],mp.map_graph.g[mp.map_graph.end])\n",
        "end = time.time()\n",
        "print('Elapsed Time: %.3f'%(end - start))\n",
        "\n",
        "path_djk,dist_djk = dj_maze.reconstruct_path(mp.map_graph.g[mp.map_graph.root],mp.map_graph.g[mp.map_graph.end])"
      ]
    },
    {
      "cell_type": "code",
      "execution_count": null,
      "metadata": {
        "id": "G5r-sX6oYuD2"
      },
      "outputs": [],
      "source": [
        "path_arr_djk = mp.draw_path(path_djk)"
      ]
    },
    {
      "cell_type": "code",
      "execution_count": null,
      "metadata": {
        "id": "2g3xBD_LYuD2"
      },
      "outputs": [],
      "source": [
        "mp.map_graph.root = \"130,175\"\n",
        "mp.map_graph.end = \"100,10\"\n",
        "\n",
        "as_maze = AStar(mp.map_graph)\n",
        "\n",
        "start = time.time()\n",
        "as_maze.solve(mp.map_graph.g[mp.map_graph.root],mp.map_graph.g[mp.map_graph.end])\n",
        "end = time.time()\n",
        "print('Elapsed Time: %.3f'%(end - start))\n",
        "\n",
        "path_as,dist_as = as_maze.reconstruct_path(mp.map_graph.g[mp.map_graph.root],mp.map_graph.g[mp.map_graph.end])"
      ]
    },
    {
      "cell_type": "code",
      "execution_count": null,
      "metadata": {
        "id": "Kmt2ZMcPYuD2"
      },
      "outputs": [],
      "source": [
        "path_arr_as = mp.draw_path(path_as)"
      ]
    },
    {
      "cell_type": "code",
      "execution_count": null,
      "metadata": {
        "id": "JX-zhFmHYuD3"
      },
      "outputs": [],
      "source": [
        "fig, ax = plt.subplots(nrows = 1, ncols = 3, dpi=300, sharex=True, sharey=True)\n",
        "ax[0].imshow(path_arr_bfs)\n",
        "ax[0].set_title('Path BFS')\n",
        "ax[1].imshow(path_arr_djk)\n",
        "ax[1].set_title('Path Dijkstra')\n",
        "ax[2].imshow(path_arr_as)\n",
        "ax[2].set_title('Path A*')\n",
        "\n",
        "plt.show()"
      ]
    },
    {
      "cell_type": "code",
      "execution_count": null,
      "metadata": {
        "id": "26tAkoU9YuD3"
      },
      "outputs": [],
      "source": [
        "print(dist_djk)\n",
        "print(dist_as)\n",
        "print(dist_bfs)"
      ]
    },
    {
      "cell_type": "code",
      "execution_count": null,
      "metadata": {
        "id": "WNddPcjrarGL"
      },
      "outputs": [],
      "source": [
        "# For Grading Purposes ONLY (PLEASE DO NOT REMOVE)\n",
        "from jupyter_grader import JupyterGrader\n",
        "grader = JupyterGrader()\n",
        "# Update the 'map_name' variable if your map filename is different\n",
        "map_name = 'map'\n",
        "grader.test_map_creation(map_name)\n",
        "grader.test_a_star(AStar)"
      ]
    }
  ],
  "metadata": {
    "colab": {
      "provenance": []
    },
    "kernelspec": {
      "display_name": "Python 3",
      "language": "python",
      "name": "python3"
    },
    "language_info": {
      "codemirror_mode": {
        "name": "ipython",
        "version": 3
      },
      "file_extension": ".py",
      "mimetype": "text/x-python",
      "name": "python",
      "nbconvert_exporter": "python",
      "pygments_lexer": "ipython3",
      "version": "3.8.0"
    }
  },
  "nbformat": 4,
  "nbformat_minor": 0
}